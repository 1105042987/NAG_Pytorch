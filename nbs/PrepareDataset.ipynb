{
 "cells": [
  {
   "cell_type": "code",
   "execution_count": null,
   "metadata": {
    "colab": {
     "base_uri": "https://localhost:8080/",
     "height": 191
    },
    "colab_type": "code",
    "id": "qhfeK3A6N_wi",
    "outputId": "7e4a39cb-fe94-4f98-bbf9-fa378306591e"
   },
   "outputs": [],
   "source": [
    "!df -h"
   ]
  },
  {
   "cell_type": "code",
   "execution_count": null,
   "metadata": {
    "colab": {
     "base_uri": "https://localhost:8080/",
     "height": 973
    },
    "colab_type": "code",
    "id": "m-qNDYGxN3-w",
    "outputId": "4a9baba7-21f6-4aad-a7e3-eec9c5e0d397"
   },
   "outputs": [],
   "source": [
    "!cat /proc/cpuinfo"
   ]
  },
  {
   "cell_type": "code",
   "execution_count": null,
   "metadata": {
    "colab": {
     "base_uri": "https://localhost:8080/",
     "height": 797
    },
    "colab_type": "code",
    "id": "QlvkREnwN-RA",
    "outputId": "415ec95a-1710-4651-cffb-77fcf3eb5d94"
   },
   "outputs": [],
   "source": [
    "!cat /proc/meminfo"
   ]
  },
  {
   "cell_type": "code",
   "execution_count": null,
   "metadata": {
    "colab": {
     "base_uri": "https://localhost:8080/",
     "height": 295
    },
    "colab_type": "code",
    "id": "6FBrFBg7UsAT",
    "outputId": "5e7523d4-6c90-48d4-f6f0-c590e700c3c4"
   },
   "outputs": [],
   "source": [
    "!kaggle competitions download -c imagenet-object-localization-challenge"
   ]
  },
  {
   "cell_type": "code",
   "execution_count": null,
   "metadata": {
    "colab": {
     "base_uri": "https://localhost:8080/",
     "height": 609
    },
    "colab_type": "code",
    "id": "bnMBovT3VGK6",
    "outputId": "14cbbdb0-cfe5-404c-b74d-b3bc06937e82"
   },
   "outputs": [],
   "source": [
    "# !wget http://zlib.net/pigz/pigz-2.4.tar.gz\n",
    "# !tar -xvf pigz-2.4.tar.gz\n",
    "# Downloading imagenet_object_localization_patched2019.tar.gz to /content\n",
    "\n",
    "!sudo apt-get install -y pigz"
   ]
  },
  {
   "cell_type": "code",
   "execution_count": null,
   "metadata": {
    "colab": {},
    "colab_type": "code",
    "id": "Tfj_m4Y3fFJ-"
   },
   "outputs": [],
   "source": [
    "# !pigz -dc imagenet_object_localization_patched2019.tar.gz | tar xf -\n",
    "!pigz -d imagenet_object_localization_patched2019.tar.gz | (cd /opt/bin/ && tar xvf -)\n",
    "\n",
    "\n"
   ]
  },
  {
   "cell_type": "code",
   "execution_count": null,
   "metadata": {
    "colab": {},
    "colab_type": "code",
    "id": "QSVkk538fimO"
   },
   "outputs": [],
   "source": [
    "!tar -tf imagenet_object_localization_patched2019.tar.gz > fileslist.txt\n"
   ]
  },
  {
   "cell_type": "code",
   "execution_count": null,
   "metadata": {
    "colab": {
     "base_uri": "https://localhost:8080/",
     "height": 35
    },
    "colab_type": "code",
    "id": "NKMFMVC6hkxH",
    "outputId": "5e67faab-1736-4e3f-a5f5-7e7437444ead"
   },
   "outputs": [],
   "source": [
    "!ls /opt/bin/ILSVRC\t\t\t "
   ]
  },
  {
   "cell_type": "code",
   "execution_count": null,
   "metadata": {
    "colab": {
     "base_uri": "https://localhost:8080/",
     "height": 156
    },
    "colab_type": "code",
    "id": "FeSofKRDjt_K",
    "outputId": "a11e22af-0567-4936-e030-4e17b309b0f8"
   },
   "outputs": [],
   "source": [
    "!tar tfz imagenet_object_localization_patched2019.tar.gz --exclude '*/*/*/*'\n"
   ]
  },
  {
   "cell_type": "code",
   "execution_count": null,
   "metadata": {
    "colab": {},
    "colab_type": "code",
    "id": "Y4ZxAK4Ih1IR"
   },
   "outputs": [],
   "source": [
    "!tar --list --verbose --no-recursion -f imagenet_object_localization_patched2019.tar.gz"
   ]
  },
  {
   "cell_type": "code",
   "execution_count": null,
   "metadata": {
    "colab": {
     "base_uri": "https://localhost:8080/",
     "height": 1000
    },
    "colab_type": "code",
    "id": "G-ZXysPbiFpJ",
    "outputId": "3671bb50-2f4c-452a-ec0a-752615ad6ec5",
    "scrolled": true
   },
   "outputs": [],
   "source": [
    "!tar tv --no-recursion -f imagenet_object_localization_patched2019.tar.gz ./*\n"
   ]
  },
  {
   "cell_type": "code",
   "execution_count": null,
   "metadata": {
    "colab": {
     "base_uri": "https://localhost:8080/",
     "height": 1000
    },
    "colab_type": "code",
    "id": "LVe82RyAin4z",
    "outputId": "539fcd41-1ccc-4254-b76d-dbf03d204b17",
    "scrolled": false
   },
   "outputs": [],
   "source": [
    "!tar -xvf imagenet_object_localization_patched2019.tar.gz ILSVRC/Data/CLS-LOC/val/\n"
   ]
  },
  {
   "cell_type": "code",
   "execution_count": null,
   "metadata": {
    "colab": {},
    "colab_type": "code",
    "id": "uQ_u_YFNkRbN"
   },
   "outputs": [],
   "source": []
  }
 ],
 "metadata": {
  "accelerator": "GPU",
  "colab": {
   "collapsed_sections": [],
   "name": "Backend specs example.ipynb",
   "provenance": []
  },
  "kernelspec": {
   "display_name": "Python 3",
   "language": "python",
   "name": "python3"
  },
  "language_info": {
   "codemirror_mode": {
    "name": "ipython",
    "version": 3
   },
   "file_extension": ".py",
   "mimetype": "text/x-python",
   "name": "python",
   "nbconvert_exporter": "python",
   "pygments_lexer": "ipython3",
   "version": "3.7.3"
  }
 },
 "nbformat": 4,
 "nbformat_minor": 1
}
